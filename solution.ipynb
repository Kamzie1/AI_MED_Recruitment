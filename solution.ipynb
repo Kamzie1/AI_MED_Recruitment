{
 "cells": [
  {
   "cell_type": "code",
   "execution_count": 1,
   "id": "6fd889b4",
   "metadata": {},
   "outputs": [],
   "source": [
    "import pandas as pd\n",
    "import numpy as np\n",
    "from KNN import KNN\n",
    "from confMatr import ConfusionMatrix\n",
    "from sklearn.model_selection import KFold\n",
    "import matplotlib.pyplot as plt"
   ]
  },
  {
   "cell_type": "code",
   "execution_count": 2,
   "id": "5c56a208",
   "metadata": {},
   "outputs": [
    {
     "data": {
      "text/html": [
       "<div>\n",
       "<style scoped>\n",
       "    .dataframe tbody tr th:only-of-type {\n",
       "        vertical-align: middle;\n",
       "    }\n",
       "\n",
       "    .dataframe tbody tr th {\n",
       "        vertical-align: top;\n",
       "    }\n",
       "\n",
       "    .dataframe thead th {\n",
       "        text-align: right;\n",
       "    }\n",
       "</style>\n",
       "<table border=\"1\" class=\"dataframe\">\n",
       "  <thead>\n",
       "    <tr style=\"text-align: right;\">\n",
       "      <th></th>\n",
       "      <th>Cardiomegaly</th>\n",
       "      <th>Heart width</th>\n",
       "      <th>Lung width</th>\n",
       "      <th>CTR - Cardiothoracic Ratio</th>\n",
       "      <th>normalized_diff</th>\n",
       "      <th>Inscribed circle radius</th>\n",
       "      <th>Polygon Area Ratio</th>\n",
       "      <th>Heart perimeter</th>\n",
       "      <th>Heart area</th>\n",
       "      <th>Lung area</th>\n",
       "    </tr>\n",
       "  </thead>\n",
       "  <tbody>\n",
       "    <tr>\n",
       "      <th>0</th>\n",
       "      <td>0</td>\n",
       "      <td>172</td>\n",
       "      <td>405</td>\n",
       "      <td>0,424691358</td>\n",
       "      <td>-0.304239</td>\n",
       "      <td>68,8186</td>\n",
       "      <td>0.213446</td>\n",
       "      <td>679,4873689</td>\n",
       "      <td>24898</td>\n",
       "      <td>75419</td>\n",
       "    </tr>\n",
       "    <tr>\n",
       "      <th>1</th>\n",
       "      <td>1</td>\n",
       "      <td>159</td>\n",
       "      <td>391</td>\n",
       "      <td>0,4066496164</td>\n",
       "      <td>-0.539387</td>\n",
       "      <td>73,92564</td>\n",
       "      <td>0.203652</td>\n",
       "      <td>788,6589419</td>\n",
       "      <td>29851</td>\n",
       "      <td>94494</td>\n",
       "    </tr>\n",
       "    <tr>\n",
       "      <th>2</th>\n",
       "      <td>0</td>\n",
       "      <td>208</td>\n",
       "      <td>400</td>\n",
       "      <td>0,52</td>\n",
       "      <td>-0.371163</td>\n",
       "      <td>69,33974</td>\n",
       "      <td>0.320787</td>\n",
       "      <td>862,3229369</td>\n",
       "      <td>33653</td>\n",
       "      <td>66666</td>\n",
       "    </tr>\n",
       "    <tr>\n",
       "      <th>3</th>\n",
       "      <td>1</td>\n",
       "      <td>226</td>\n",
       "      <td>435</td>\n",
       "      <td>0,5195402299</td>\n",
       "      <td>-0.419123</td>\n",
       "      <td>84,14868</td>\n",
       "      <td>0.317545</td>\n",
       "      <td>906,724959</td>\n",
       "      <td>42018</td>\n",
       "      <td>82596</td>\n",
       "    </tr>\n",
       "    <tr>\n",
       "      <th>4</th>\n",
       "      <td>1</td>\n",
       "      <td>211</td>\n",
       "      <td>420</td>\n",
       "      <td>0,5023809524</td>\n",
       "      <td>-0.393442</td>\n",
       "      <td>73,78347</td>\n",
       "      <td>0.263542</td>\n",
       "      <td>864,2396777</td>\n",
       "      <td>35346</td>\n",
       "      <td>85631</td>\n",
       "    </tr>\n",
       "  </tbody>\n",
       "</table>\n",
       "</div>"
      ],
      "text/plain": [
       "   Cardiomegaly  Heart width  Lung width CTR - Cardiothoracic Ratio  \\\n",
       "0             0          172         405                0,424691358   \n",
       "1             1          159         391               0,4066496164   \n",
       "2             0          208         400                       0,52   \n",
       "3             1          226         435               0,5195402299   \n",
       "4             1          211         420               0,5023809524   \n",
       "\n",
       "   normalized_diff Inscribed circle radius  Polygon Area Ratio  \\\n",
       "0        -0.304239                 68,8186            0.213446   \n",
       "1        -0.539387                73,92564            0.203652   \n",
       "2        -0.371163                69,33974            0.320787   \n",
       "3        -0.419123                84,14868            0.317545   \n",
       "4        -0.393442                73,78347            0.263542   \n",
       "\n",
       "  Heart perimeter  Heart area   Lung area  \n",
       "0     679,4873689        24898      75419  \n",
       "1     788,6589419        29851      94494  \n",
       "2     862,3229369        33653      66666  \n",
       "3      906,724959        42018      82596  \n",
       "4     864,2396777        35346      85631  "
      ]
     },
     "execution_count": 2,
     "metadata": {},
     "output_type": "execute_result"
    }
   ],
   "source": [
    "data = pd.read_csv(\"task_data.csv\")\n",
    "data.drop(['ID', 'xx', 'yy', 'xy'], axis=1, inplace=True)\n",
    "data.head()"
   ]
  },
  {
   "cell_type": "code",
   "execution_count": 3,
   "id": "99662907",
   "metadata": {},
   "outputs": [],
   "source": [
    "#casting str to float\n",
    "for col in data.columns:\n",
    "  if isinstance(data[col][1], str):\n",
    "    data[col] = data[col].map(lambda x: float(x.replace(',', '.')))\n",
    "\n",
    "#normalizing inputs\n",
    "for col in data.columns:\n",
    "  maksimum = max(data[col])\n",
    "  minimum = min(data[col])\n",
    "  data[col] = data[col].map(lambda x: (x-minimum)/(maksimum-minimum))\n"
   ]
  },
  {
   "cell_type": "code",
   "execution_count": 4,
   "id": "78356f64",
   "metadata": {},
   "outputs": [
    {
     "name": "stdout",
     "output_type": "stream",
     "text": [
      "Using Hamming:  Accuracy: 0.5945945945945946 Precision: 0.6071428571428571 Recall: 0.8095238095238095 F1-score: 0.6938775510204083\n",
      "Using Euclidean  Accuracy: 0.7027027027027027 Precision: 0.7857142857142857 Recall: 0.8148148148148148 F1-score: 0.7999999999999999\n",
      "Using manhattan:  Accuracy: 0.7297297297297297 Precision: 0.8214285714285714 Recall: 0.8214285714285714 F1-score: 0.8214285714285714\n",
      "Using chebyshev:  Accuracy: 0.7027027027027027 Precision: 0.8214285714285714 Recall: 0.7931034482758621 F1-score: 0.8070175438596492\n"
     ]
    }
   ],
   "source": [
    "#confusion matrixes for diffrent methods of calculating distance(for comparision)\n",
    "cfm_hamming = ConfusionMatrix()\n",
    "cfm_euclidean = ConfusionMatrix()\n",
    "cfm_manhattan = ConfusionMatrix()\n",
    "cfm_chebyshev = ConfusionMatrix()\n",
    "\n",
    "#evaluating the solution with cross validation\n",
    "kf = KFold(5, shuffle=True)\n",
    "for train_id, test_id in kf.split(data):\n",
    "  #initializing KNN with train dataset and k=6 neighbors\n",
    "  knn = KNN(np.array(data.loc[train_id]), 6)\n",
    "\n",
    "  #calculating TP, TN, FP, FN\n",
    "  for point in np.array(data.loc[test_id]):\n",
    "    cfm_hamming.evaluate(np.round(knn.predict(np.array(point[1:]), KNN.hamming)), point[0])\n",
    "    cfm_manhattan.evaluate(np.round(knn.predict(np.array(point[1:]), KNN.manhattan)), point[0])\n",
    "    cfm_euclidean.evaluate(np.round(knn.predict(np.array(point[1:]))), point[0])\n",
    "    cfm_chebyshev.evaluate(np.round(knn.predict(np.array(point[1:]), KNN.chebyshev)), point[0])\n",
    "\n",
    "cfm_hamming.print_all(\"Using Hamming: \")\n",
    "cfm_euclidean.print_all(\"Using Euclidean \")\n",
    "cfm_manhattan.print_all(\"Using manhattan: \")\n",
    "cfm_chebyshev.print_all(\"Using chebyshev: \")"
   ]
  },
  {
   "cell_type": "code",
   "execution_count": 5,
   "id": "908305ad",
   "metadata": {},
   "outputs": [
    {
     "data": {
      "image/png": "[encoded data removed]",
      "text/plain": [
       "<Figure size 640x480 with 1 Axes>"
      ]
     },
     "metadata": {},
     "output_type": "display_data"
    }
   ],
   "source": [
    "names = ['accuracy', 'precision', 'recall', 'F1-score']\n",
    "values = {\n",
    "  \"hamming\" : (cfm_hamming.accuracy,cfm_hamming.precision,cfm_hamming.recall, cfm_hamming.F1_score),\n",
    "  \"manhattan\" : (cfm_manhattan.accuracy,cfm_manhattan.precision,cfm_manhattan.recall, cfm_manhattan.F1_score),\n",
    "  \"euclidean\" : (cfm_euclidean.accuracy,cfm_euclidean.precision,cfm_euclidean.recall, cfm_euclidean.F1_score),\n",
    "  \"chebyshev\" : (cfm_chebyshev.accuracy,cfm_chebyshev.precision,cfm_chebyshev.recall, cfm_chebyshev.F1_score),\n",
    "}\n",
    "r = 2\n",
    "\n",
    "values = {k: (round(v[0],r), round(v[1],r), round(v[2],r), round(v[3], r)) for k, v in values.items()}\n",
    "\n",
    "fig, ax = plt.subplots(layout='constrained')\n",
    "x = np.arange(len(names))\n",
    "width = 0.2\n",
    "multiplier = 0\n",
    "\n",
    "for attribute, measurement in values.items():\n",
    "    offset = width * multiplier\n",
    "    rects = ax.bar(x + offset, measurement, width, label=attribute)\n",
    "    ax.bar_label(rects, padding=3)\n",
    "    multiplier += 1\n",
    "\n",
    "ax.set_title('Evaluation of diffrent methods used by KNN')\n",
    "ax.set_xticks(x + width, names)\n",
    "ax.legend(loc='upper left', ncols=3)\n",
    "ax.set_ylim(0, 1.2)\n",
    "\n",
    "\n",
    "plt.show()"
   ]
  },
  {
   "cell_type": "code",
   "execution_count": 6,
   "id": "68bf5258",
   "metadata": {},
   "outputs": [
    {
     "ename": "ZeroDivisionError",
     "evalue": "division by zero",
     "output_type": "error",
     "traceback": [
      "\u001b[31m---------------------------------------------------------------------------\u001b[39m",
      "\u001b[31mZeroDivisionError\u001b[39m                         Traceback (most recent call last)",
      "\u001b[36mCell\u001b[39m\u001b[36m \u001b[39m\u001b[32mIn[6]\u001b[39m\u001b[32m, line 9\u001b[39m\n\u001b[32m      6\u001b[39m kf = KFold(\u001b[32m5\u001b[39m, shuffle=\u001b[38;5;28;01mTrue\u001b[39;00m)\n\u001b[32m      7\u001b[39m \u001b[38;5;28;01mfor\u001b[39;00m train_id, test_id \u001b[38;5;129;01min\u001b[39;00m kf.split(data):\n\u001b[32m      8\u001b[39m   \u001b[38;5;66;03m#initializing KNN with train dataset and k=6 neighbors\u001b[39;00m\n\u001b[32m----> \u001b[39m\u001b[32m9\u001b[39m   \u001b[43mdT\u001b[49m\u001b[43m.\u001b[49m\u001b[43mfit\u001b[49m\u001b[43m(\u001b[49m\u001b[43mnp\u001b[49m\u001b[43m.\u001b[49m\u001b[43marray\u001b[49m\u001b[43m(\u001b[49m\u001b[43mdata\u001b[49m\u001b[43m.\u001b[49m\u001b[43mloc\u001b[49m\u001b[43m[\u001b[49m\u001b[43mtrain_id\u001b[49m\u001b[43m]\u001b[49m\u001b[43m)\u001b[49m\u001b[43m)\u001b[49m\n\u001b[32m     10\u001b[39m   \u001b[38;5;66;03m#calculating TP, TN, FP, FN\u001b[39;00m\n\u001b[32m     11\u001b[39m   \u001b[38;5;28;01mfor\u001b[39;00m point \u001b[38;5;129;01min\u001b[39;00m np.array(data.loc[test_id]):\n",
      "\u001b[36mFile \u001b[39m\u001b[32mc:\\Users\\kamil\\Documents\\GitHub\\aimed\\decisionTree.py:31\u001b[39m, in \u001b[36mDecisionTreeClassifier.fit\u001b[39m\u001b[34m(self, data)\u001b[39m\n\u001b[32m     30\u001b[39m \u001b[38;5;28;01mdef\u001b[39;00m\u001b[38;5;250m \u001b[39m\u001b[34mfit\u001b[39m(\u001b[38;5;28mself\u001b[39m, data):\n\u001b[32m---> \u001b[39m\u001b[32m31\u001b[39m     \u001b[38;5;28mself\u001b[39m.root = \u001b[38;5;28;43mself\u001b[39;49m\u001b[43m.\u001b[49m\u001b[43mcraftTree\u001b[49m\u001b[43m(\u001b[49m\u001b[43mdata\u001b[49m\u001b[43m,\u001b[49m\u001b[43m \u001b[49m\u001b[43minformation_gained\u001b[49m\u001b[43m=\u001b[49m\u001b[32;43m1\u001b[39;49m\u001b[43m)\u001b[49m\n",
      "\u001b[36mFile \u001b[39m\u001b[32mc:\\Users\\kamil\\Documents\\GitHub\\aimed\\decisionTree.py:48\u001b[39m, in \u001b[36mDecisionTreeClassifier.craftTree\u001b[39m\u001b[34m(self, data, information_gained, depth)\u001b[39m\n\u001b[32m     45\u001b[39m         \u001b[38;5;28;01mreturn\u001b[39;00m \u001b[38;5;28;01mNone\u001b[39;00m\n\u001b[32m     46\u001b[39m     \u001b[38;5;28;01mreturn\u001b[39;00m Node(value=\u001b[38;5;28mself\u001b[39m.most_common_label(Y))\n\u001b[32m---> \u001b[39m\u001b[32m48\u001b[39m best_value = \u001b[38;5;28;43mself\u001b[39;49m\u001b[43m.\u001b[49m\u001b[43mget_best_value\u001b[49m\u001b[43m(\u001b[49m\u001b[43mdata\u001b[49m\u001b[43m,\u001b[49m\u001b[43m \u001b[49m\u001b[43minformation_gained\u001b[49m\u001b[43m)\u001b[49m\n\u001b[32m     49\u001b[39m left = \u001b[38;5;28mself\u001b[39m.craftTree(\n\u001b[32m     50\u001b[39m     best_value[\u001b[33m\"\u001b[39m\u001b[33mleft_data\u001b[39m\u001b[33m\"\u001b[39m], best_value[\u001b[33m\"\u001b[39m\u001b[33minfo_gain\u001b[39m\u001b[33m\"\u001b[39m], depth + \u001b[32m1\u001b[39m\n\u001b[32m     51\u001b[39m )\n\u001b[32m     52\u001b[39m right = \u001b[38;5;28mself\u001b[39m.craftTree(\n\u001b[32m     53\u001b[39m     best_value[\u001b[33m\"\u001b[39m\u001b[33mright_data\u001b[39m\u001b[33m\"\u001b[39m], best_value[\u001b[33m\"\u001b[39m\u001b[33minfo_gain\u001b[39m\u001b[33m\"\u001b[39m], depth + \u001b[32m1\u001b[39m\n\u001b[32m     54\u001b[39m )\n",
      "\u001b[36mFile \u001b[39m\u001b[32mc:\\Users\\kamil\\Documents\\GitHub\\aimed\\decisionTree.py:92\u001b[39m, in \u001b[36mDecisionTreeClassifier.get_best_value\u001b[39m\u001b[34m(self, data, information_gained)\u001b[39m\n\u001b[32m     87\u001b[39m         \u001b[38;5;28;01melse\u001b[39;00m:\n\u001b[32m     88\u001b[39m             right1 += \u001b[32m1\u001b[39m\n\u001b[32m     89\u001b[39m score = \u001b[38;5;28mself\u001b[39m.info_gain(\n\u001b[32m     90\u001b[39m     information_gained,\n\u001b[32m     91\u001b[39m     \u001b[38;5;28mself\u001b[39m.Gini_Impurity(left0, left1),\n\u001b[32m---> \u001b[39m\u001b[32m92\u001b[39m     \u001b[38;5;28;43mself\u001b[39;49m\u001b[43m.\u001b[49m\u001b[43mGini_Impurity\u001b[49m\u001b[43m(\u001b[49m\u001b[43mright0\u001b[49m\u001b[43m,\u001b[49m\u001b[43m \u001b[49m\u001b[43mright1\u001b[49m\u001b[43m)\u001b[49m,\n\u001b[32m     93\u001b[39m )\n\u001b[32m     94\u001b[39m \u001b[38;5;28;01mif\u001b[39;00m score > max_score:\n\u001b[32m     95\u001b[39m     max_score = score\n",
      "\u001b[36mFile \u001b[39m\u001b[32mc:\\Users\\kamil\\Documents\\GitHub\\aimed\\decisionTree.py:120\u001b[39m, in \u001b[36mDecisionTreeClassifier.Gini_Impurity\u001b[39m\u001b[34m(self, y1, y2)\u001b[39m\n\u001b[32m    119\u001b[39m \u001b[38;5;28;01mdef\u001b[39;00m\u001b[38;5;250m \u001b[39m\u001b[34mGini_Impurity\u001b[39m(\u001b[38;5;28mself\u001b[39m, y1, y2):\n\u001b[32m--> \u001b[39m\u001b[32m120\u001b[39m     \u001b[38;5;28;01mreturn\u001b[39;00m \u001b[32m1\u001b[39m - (\u001b[43my1\u001b[49m\u001b[43m \u001b[49m\u001b[43m/\u001b[49m\u001b[43m \u001b[49m\u001b[43m(\u001b[49m\u001b[43my1\u001b[49m\u001b[43m \u001b[49m\u001b[43m+\u001b[49m\u001b[43m \u001b[49m\u001b[43my2\u001b[49m\u001b[43m)\u001b[49m) ** \u001b[32m2\u001b[39m - (y2 / (y1 + y2)) ** \u001b[32m2\u001b[39m\n",
      "\u001b[31mZeroDivisionError\u001b[39m: division by zero"
     ]
    }
   ],
   "source": [
    "from decisionTree import DecisionTreeClassifier\n",
    "\n",
    "#evaluating the solution with cross validation\n",
    "dT = DecisionTreeClassifier(6)\n",
    "cfm = ConfusionMatrix()\n",
    "kf = KFold(5, shuffle=True)\n",
    "for train_id, test_id in kf.split(data):\n",
    "  #initializing KNN with train dataset and k=6 neighbors\n",
    "  dT.fit(np.array(data.loc[train_id]))\n",
    "  #calculating TP, TN, FP, FN\n",
    "  for point in np.array(data.loc[test_id]):\n",
    "    cfm.evaluate(dT.traverse_tree(point), point[0])\n",
    "\n",
    "cfm.print_all()"
   ]
  }
 ],
 "metadata": {
  "kernelspec": {
   "display_name": ".venv",
   "language": "python",
   "name": "python3"
  },
  "language_info": {
   "codemirror_mode": {
    "name": "ipython",
    "version": 3
   },
   "file_extension": ".py",
   "mimetype": "text/x-python",
   "name": "python",
   "nbconvert_exporter": "python",
   "pygments_lexer": "ipython3",
   "version": "3.13.9"
  }
 },
 "nbformat": 4,
 "nbformat_minor": 5
}
