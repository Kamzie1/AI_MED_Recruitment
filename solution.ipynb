{
 "cells": [
  {
   "cell_type": "code",
   "execution_count": 37,
   "id": "6fd889b4",
   "metadata": {},
   "outputs": [],
   "source": [
    "import pandas as pd\n",
    "import numpy as np\n",
    "from models.KNN import KNN\n",
    "from confMatr import ConfusionMatrix\n",
    "from sklearn.model_selection import KFold\n",
    "import matplotlib.pyplot as plt"
   ]
  },
  {
   "cell_type": "code",
   "execution_count": 38,
   "id": "5c56a208",
   "metadata": {},
   "outputs": [
    {
     "data": {
      "text/html": [
       "<div>\n",
       "<style scoped>\n",
       "    .dataframe tbody tr th:only-of-type {\n",
       "        vertical-align: middle;\n",
       "    }\n",
       "\n",
       "    .dataframe tbody tr th {\n",
       "        vertical-align: top;\n",
       "    }\n",
       "\n",
       "    .dataframe thead th {\n",
       "        text-align: right;\n",
       "    }\n",
       "</style>\n",
       "<table border=\"1\" class=\"dataframe\">\n",
       "  <thead>\n",
       "    <tr style=\"text-align: right;\">\n",
       "      <th></th>\n",
       "      <th>Cardiomegaly</th>\n",
       "      <th>Heart width</th>\n",
       "      <th>Lung width</th>\n",
       "      <th>CTR - Cardiothoracic Ratio</th>\n",
       "      <th>normalized_diff</th>\n",
       "      <th>Inscribed circle radius</th>\n",
       "      <th>Polygon Area Ratio</th>\n",
       "      <th>Heart perimeter</th>\n",
       "      <th>Heart area</th>\n",
       "      <th>Lung area</th>\n",
       "    </tr>\n",
       "  </thead>\n",
       "  <tbody>\n",
       "    <tr>\n",
       "      <th>0</th>\n",
       "      <td>0</td>\n",
       "      <td>172</td>\n",
       "      <td>405</td>\n",
       "      <td>0,424691358</td>\n",
       "      <td>-0.304239</td>\n",
       "      <td>68,8186</td>\n",
       "      <td>0.213446</td>\n",
       "      <td>679,4873689</td>\n",
       "      <td>24898</td>\n",
       "      <td>75419</td>\n",
       "    </tr>\n",
       "    <tr>\n",
       "      <th>1</th>\n",
       "      <td>1</td>\n",
       "      <td>159</td>\n",
       "      <td>391</td>\n",
       "      <td>0,4066496164</td>\n",
       "      <td>-0.539387</td>\n",
       "      <td>73,92564</td>\n",
       "      <td>0.203652</td>\n",
       "      <td>788,6589419</td>\n",
       "      <td>29851</td>\n",
       "      <td>94494</td>\n",
       "    </tr>\n",
       "    <tr>\n",
       "      <th>2</th>\n",
       "      <td>0</td>\n",
       "      <td>208</td>\n",
       "      <td>400</td>\n",
       "      <td>0,52</td>\n",
       "      <td>-0.371163</td>\n",
       "      <td>69,33974</td>\n",
       "      <td>0.320787</td>\n",
       "      <td>862,3229369</td>\n",
       "      <td>33653</td>\n",
       "      <td>66666</td>\n",
       "    </tr>\n",
       "    <tr>\n",
       "      <th>3</th>\n",
       "      <td>1</td>\n",
       "      <td>226</td>\n",
       "      <td>435</td>\n",
       "      <td>0,5195402299</td>\n",
       "      <td>-0.419123</td>\n",
       "      <td>84,14868</td>\n",
       "      <td>0.317545</td>\n",
       "      <td>906,724959</td>\n",
       "      <td>42018</td>\n",
       "      <td>82596</td>\n",
       "    </tr>\n",
       "    <tr>\n",
       "      <th>4</th>\n",
       "      <td>1</td>\n",
       "      <td>211</td>\n",
       "      <td>420</td>\n",
       "      <td>0,5023809524</td>\n",
       "      <td>-0.393442</td>\n",
       "      <td>73,78347</td>\n",
       "      <td>0.263542</td>\n",
       "      <td>864,2396777</td>\n",
       "      <td>35346</td>\n",
       "      <td>85631</td>\n",
       "    </tr>\n",
       "  </tbody>\n",
       "</table>\n",
       "</div>"
      ],
      "text/plain": [
       "   Cardiomegaly  Heart width  Lung width CTR - Cardiothoracic Ratio  \\\n",
       "0             0          172         405                0,424691358   \n",
       "1             1          159         391               0,4066496164   \n",
       "2             0          208         400                       0,52   \n",
       "3             1          226         435               0,5195402299   \n",
       "4             1          211         420               0,5023809524   \n",
       "\n",
       "   normalized_diff Inscribed circle radius  Polygon Area Ratio  \\\n",
       "0        -0.304239                 68,8186            0.213446   \n",
       "1        -0.539387                73,92564            0.203652   \n",
       "2        -0.371163                69,33974            0.320787   \n",
       "3        -0.419123                84,14868            0.317545   \n",
       "4        -0.393442                73,78347            0.263542   \n",
       "\n",
       "  Heart perimeter  Heart area   Lung area  \n",
       "0     679,4873689        24898      75419  \n",
       "1     788,6589419        29851      94494  \n",
       "2     862,3229369        33653      66666  \n",
       "3      906,724959        42018      82596  \n",
       "4     864,2396777        35346      85631  "
      ]
     },
     "execution_count": 38,
     "metadata": {},
     "output_type": "execute_result"
    }
   ],
   "source": [
    "data = pd.read_csv(\"task_data.csv\")\n",
    "data.drop(['ID', 'xx', 'yy', 'xy'], axis=1, inplace=True)\n",
    "data.head()"
   ]
  },
  {
   "cell_type": "code",
   "execution_count": 39,
   "id": "99662907",
   "metadata": {},
   "outputs": [],
   "source": [
    "#casting str to float\n",
    "for col in data.columns:\n",
    "  if isinstance(data[col][1], str):\n",
    "    data[col] = data[col].map(lambda x: float(x.replace(',', '.')))\n",
    "\n",
    "#normalizing inputs\n",
    "for col in data.columns:\n",
    "  maksimum = max(data[col])\n",
    "  minimum = min(data[col])\n",
    "  data[col] = data[col].map(lambda x: (x-minimum)/(maksimum-minimum))\n"
   ]
  },
  {
   "cell_type": "code",
   "execution_count": 40,
   "id": "78356f64",
   "metadata": {},
   "outputs": [
    {
     "name": "stdout",
     "output_type": "stream",
     "text": [
      "Using Hamming:  Accuracy: 0.5405405405405406 Precision: 0.5 Recall: 0.8235294117647058 F1-score: 0.6222222222222222\n",
      "Using Euclidean  Accuracy: 0.7027027027027027 Precision: 0.8214285714285714 Recall: 0.7931034482758621 F1-score: 0.8070175438596492\n",
      "Using manhattan:  Accuracy: 0.7297297297297297 Precision: 0.8214285714285714 Recall: 0.8214285714285714 F1-score: 0.8214285714285714\n",
      "Using chebyshev:  Accuracy: 0.6486486486486487 Precision: 0.7857142857142857 Recall: 0.7586206896551724 F1-score: 0.7719298245614034\n"
     ]
    }
   ],
   "source": [
    "#confusion matrixes for diffrent methods of calculating distance(for comparision)\n",
    "cfm_hamming = ConfusionMatrix()\n",
    "cfm_euclidean = ConfusionMatrix()\n",
    "cfm_manhattan = ConfusionMatrix()\n",
    "cfm_chebyshev = ConfusionMatrix()\n",
    "knn = KNN(k=6)  #initializing KNN with k=6 neighbors\n",
    "\n",
    "#evaluating the solution with cross validation\n",
    "kf = KFold(5, shuffle=True)\n",
    "for train_id, test_id in kf.split(data):\n",
    "  knn.fit(np.array(data.loc[train_id]))\n",
    "  #calculating TP, TN, FP, FN\n",
    "  for point in np.array(data.loc[test_id]):\n",
    "    cfm_hamming.evaluate(knn.predict(np.array(point[1:]), KNN.hamming), point[0])\n",
    "    cfm_manhattan.evaluate(knn.predict(np.array(point[1:]), KNN.manhattan), point[0])\n",
    "    cfm_euclidean.evaluate(knn.predict(np.array(point[1:])), point[0])\n",
    "    cfm_chebyshev.evaluate(knn.predict(np.array(point[1:]), KNN.chebyshev), point[0])\n",
    "\n",
    "cfm_hamming.print_all(\"Using Hamming: \")\n",
    "cfm_euclidean.print_all(\"Using Euclidean \")\n",
    "cfm_manhattan.print_all(\"Using manhattan: \")\n",
    "cfm_chebyshev.print_all(\"Using chebyshev: \")"
   ]
  },
  {
   "cell_type": "code",
   "execution_count": 41,
   "id": "908305ad",
   "metadata": {},
   "outputs": [
    {
     "data": {
      "image/png": "[encoded data removed]",
      "text/plain": [
       "<Figure size 640x480 with 1 Axes>"
      ]
     },
     "metadata": {},
     "output_type": "display_data"
    }
   ],
   "source": [
    "names = ['accuracy', 'precision', 'recall', 'F1-score']\n",
    "values = {\n",
    "  \"hamming\" : (cfm_hamming.accuracy,cfm_hamming.precision,cfm_hamming.recall, cfm_hamming.F1_score),\n",
    "  \"manhattan\" : (cfm_manhattan.accuracy,cfm_manhattan.precision,cfm_manhattan.recall, cfm_manhattan.F1_score),\n",
    "  \"euclidean\" : (cfm_euclidean.accuracy,cfm_euclidean.precision,cfm_euclidean.recall, cfm_euclidean.F1_score),\n",
    "  \"chebyshev\" : (cfm_chebyshev.accuracy,cfm_chebyshev.precision,cfm_chebyshev.recall, cfm_chebyshev.F1_score),\n",
    "}\n",
    "r = 2\n",
    "\n",
    "values = {k: (round(v[0],r), round(v[1],r), round(v[2],r), round(v[3], r)) for k, v in values.items()}\n",
    "\n",
    "fig, ax = plt.subplots(layout='constrained')\n",
    "x = np.arange(len(names))\n",
    "width = 0.2\n",
    "multiplier = 0\n",
    "\n",
    "for attribute, measurement in values.items():\n",
    "    offset = width * multiplier\n",
    "    rects = ax.bar(x + offset, measurement, width, label=attribute)\n",
    "    ax.bar_label(rects, padding=3)\n",
    "    multiplier += 1\n",
    "\n",
    "ax.set_title('Evaluation of diffrent methods used by KNN')\n",
    "ax.set_xticks(x + width, names)\n",
    "ax.legend(loc='upper left', ncols=3)\n",
    "ax.set_ylim(0.4, 1.2)\n",
    "\n",
    "\n",
    "plt.show()"
   ]
  },
  {
   "cell_type": "markdown",
   "id": "c3bd4c5e",
   "metadata": {},
   "source": [
    "Euclidean method seems to be the most precise out of the four"
   ]
  },
  {
   "cell_type": "code",
   "execution_count": null,
   "id": "68bf5258",
   "metadata": {},
   "outputs": [
    {
     "name": "stdout",
     "output_type": "stream",
     "text": [
      " Accuracy: 0.7567567567567568 Precision: 0.8928571428571429 Recall: 0.8064516129032258 F1-score: 0.8474576271186439\n"
     ]
    }
   ],
   "source": [
    "from models.decisionTree import DecisionTreeClassifier\n",
    "\n",
    "#evaluating the solution with cross validation\n",
    "dT = DecisionTreeClassifier(10)\n",
    "cfm_decisionTree = ConfusionMatrix()\n",
    "\n",
    "for train_id, test_id in kf.split(data):\n",
    "  dT.fit(np.array(data.loc[train_id]))\n",
    "  #calculating TP, TN, FP, FN\n",
    "  for point in np.array(data.loc[test_id]):\n",
    "    cfm_decisionTree.evaluate(dT.traverse_tree(point), point[0])\n",
    "\n",
    "cfm_decisionTree.print_all()"
   ]
  },
  {
   "cell_type": "code",
   "execution_count": 43,
   "id": "3b1432b6",
   "metadata": {},
   "outputs": [
    {
     "name": "stdout",
     "output_type": "stream",
     "text": [
      " Accuracy: 0.8648648648648649 Precision: 1.0 Recall: 0.8484848484848485 F1-score: 0.9180327868852458\n"
     ]
    }
   ],
   "source": [
    "from models.randomForest import RandomForest\n",
    "\n",
    "#evaluating the solution with cross validation\n",
    "rF = RandomForest(64) #initializing random forest to have 6 trees\n",
    "cfm_randomForest = ConfusionMatrix()\n",
    "\n",
    "for train_id, test_id in kf.split(data):\n",
    "  rF.fit(np.array(data.loc[train_id])) # fiting random forest with training data\n",
    "  #calculating TP, TN, FP, FN\n",
    "  for point in np.array(data.loc[test_id]):\n",
    "    cfm_randomForest.evaluate(rF.predict(point), point[0])\n",
    "\n",
    "cfm_randomForest.print_all()"
   ]
  },
  {
   "cell_type": "markdown",
   "id": "df2e5f06",
   "metadata": {},
   "source": [
    "Lets compare all the models with the same data, for KNN lets use euclidean method for calculating distance since it seems to be the best."
   ]
  },
  {
   "cell_type": "code",
   "execution_count": 44,
   "id": "2e80c42f",
   "metadata": {},
   "outputs": [],
   "source": [
    "\n",
    "cfm_randomForest = ConfusionMatrix()\n",
    "cfm_decisionTree= ConfusionMatrix()\n",
    "cfm_KNN = ConfusionMatrix()\n",
    "\n",
    "for train_id, test_id in kf.split(data):\n",
    "  rF.fit(np.array(data.loc[train_id]))\n",
    "  dT.fit(np.array(data.loc[train_id]))\n",
    "  knn.fit(np.array(data.loc[train_id]))\n",
    "  #calculating TP, TN, FP, FN\n",
    "  for point in np.array(data.loc[test_id]):\n",
    "    cfm_randomForest.evaluate(rF.predict(point), point[0])\n",
    "    cfm_decisionTree.evaluate(dT.predict(point), point[0])\n",
    "    cfm_KNN.evaluate(knn.predict(point[1:]), point[0])"
   ]
  },
  {
   "cell_type": "code",
   "execution_count": 45,
   "id": "0200ec4b",
   "metadata": {},
   "outputs": [
    {
     "data": {
      "image/png": "[encoded data removed]",
      "text/plain": [
       "<Figure size 640x480 with 1 Axes>"
      ]
     },
     "metadata": {},
     "output_type": "display_data"
    }
   ],
   "source": [
    "\n",
    "names = ['accuracy', 'precision', 'recall', 'F1-score']\n",
    "values = {\n",
    "  \"KNN (euclidean)\" : (cfm_euclidean.accuracy,cfm_euclidean.precision,cfm_euclidean.recall, cfm_euclidean.F1_score),\n",
    "  \"Decision Tree\" : (cfm_decisionTree.accuracy,cfm_decisionTree.precision,cfm_decisionTree.recall, cfm_decisionTree.F1_score),\n",
    "  \"Random Forest\" : (cfm_randomForest.accuracy,cfm_randomForest.precision,cfm_randomForest.recall, cfm_randomForest.F1_score),\n",
    "}\n",
    "r = 2\n",
    "\n",
    "values = {k: (round(v[0],r), round(v[1],r), round(v[2],r), round(v[3], r)) for k, v in values.items()}\n",
    "\n",
    "fig, ax = plt.subplots(layout='constrained')\n",
    "x = np.arange(len(names))\n",
    "width = 0.2\n",
    "multiplier = 0\n",
    "\n",
    "for attribute, measurement in values.items():\n",
    "    offset = width * multiplier\n",
    "    rects = ax.bar(x + offset, measurement, width, label=attribute)\n",
    "    ax.bar_label(rects, padding=3)\n",
    "    multiplier += 1\n",
    "\n",
    "ax.set_title('Comparision of different models')\n",
    "ax.set_xticks(x + width, names)\n",
    "ax.legend(loc='upper left', ncols=3)\n",
    "ax.set_ylim(0.5, 1.2)\n",
    "\n",
    "\n",
    "plt.show()"
   ]
  },
  {
   "cell_type": "markdown",
   "id": "06edcf3e",
   "metadata": {},
   "source": [
    "In conclusion Random Forest performed the best on the given dataset"
   ]
  }
 ],
 "metadata": {
  "kernelspec": {
   "display_name": ".venv",
   "language": "python",
   "name": "python3"
  },
  "language_info": {
   "codemirror_mode": {
    "name": "ipython",
    "version": 3
   },
   "file_extension": ".py",
   "mimetype": "text/x-python",
   "name": "python",
   "nbconvert_exporter": "python",
   "pygments_lexer": "ipython3",
   "version": "3.13.9"
  }
 },
 "nbformat": 4,
 "nbformat_minor": 5
}
