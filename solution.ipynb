{
 "cells": [
  {
   "cell_type": "code",
   "execution_count": 1,
   "id": "6fd889b4",
   "metadata": {},
   "outputs": [],
   "source": [
    "import pandas as pd\n",
    "import numpy as np\n",
    "from KNN import KNN\n",
    "from confMatr import ConfusionMatrix\n",
    "from sklearn.model_selection import KFold\n",
    "import matplotlib.pyplot as plt"
   ]
  },
  {
   "cell_type": "code",
   "execution_count": 2,
   "id": "5c56a208",
   "metadata": {},
   "outputs": [
    {
     "data": {
      "text/html": [
       "<div>\n",
       "<style scoped>\n",
       "    .dataframe tbody tr th:only-of-type {\n",
       "        vertical-align: middle;\n",
       "    }\n",
       "\n",
       "    .dataframe tbody tr th {\n",
       "        vertical-align: top;\n",
       "    }\n",
       "\n",
       "    .dataframe thead th {\n",
       "        text-align: right;\n",
       "    }\n",
       "</style>\n",
       "<table border=\"1\" class=\"dataframe\">\n",
       "  <thead>\n",
       "    <tr style=\"text-align: right;\">\n",
       "      <th></th>\n",
       "      <th>Cardiomegaly</th>\n",
       "      <th>Heart width</th>\n",
       "      <th>Lung width</th>\n",
       "      <th>CTR - Cardiothoracic Ratio</th>\n",
       "      <th>normalized_diff</th>\n",
       "      <th>Inscribed circle radius</th>\n",
       "      <th>Polygon Area Ratio</th>\n",
       "      <th>Heart perimeter</th>\n",
       "      <th>Heart area</th>\n",
       "      <th>Lung area</th>\n",
       "    </tr>\n",
       "  </thead>\n",
       "  <tbody>\n",
       "    <tr>\n",
       "      <th>0</th>\n",
       "      <td>0</td>\n",
       "      <td>172</td>\n",
       "      <td>405</td>\n",
       "      <td>0,424691358</td>\n",
       "      <td>-0.304239</td>\n",
       "      <td>68,8186</td>\n",
       "      <td>0.213446</td>\n",
       "      <td>679,4873689</td>\n",
       "      <td>24898</td>\n",
       "      <td>75419</td>\n",
       "    </tr>\n",
       "    <tr>\n",
       "      <th>1</th>\n",
       "      <td>1</td>\n",
       "      <td>159</td>\n",
       "      <td>391</td>\n",
       "      <td>0,4066496164</td>\n",
       "      <td>-0.539387</td>\n",
       "      <td>73,92564</td>\n",
       "      <td>0.203652</td>\n",
       "      <td>788,6589419</td>\n",
       "      <td>29851</td>\n",
       "      <td>94494</td>\n",
       "    </tr>\n",
       "    <tr>\n",
       "      <th>2</th>\n",
       "      <td>0</td>\n",
       "      <td>208</td>\n",
       "      <td>400</td>\n",
       "      <td>0,52</td>\n",
       "      <td>-0.371163</td>\n",
       "      <td>69,33974</td>\n",
       "      <td>0.320787</td>\n",
       "      <td>862,3229369</td>\n",
       "      <td>33653</td>\n",
       "      <td>66666</td>\n",
       "    </tr>\n",
       "    <tr>\n",
       "      <th>3</th>\n",
       "      <td>1</td>\n",
       "      <td>226</td>\n",
       "      <td>435</td>\n",
       "      <td>0,5195402299</td>\n",
       "      <td>-0.419123</td>\n",
       "      <td>84,14868</td>\n",
       "      <td>0.317545</td>\n",
       "      <td>906,724959</td>\n",
       "      <td>42018</td>\n",
       "      <td>82596</td>\n",
       "    </tr>\n",
       "    <tr>\n",
       "      <th>4</th>\n",
       "      <td>1</td>\n",
       "      <td>211</td>\n",
       "      <td>420</td>\n",
       "      <td>0,5023809524</td>\n",
       "      <td>-0.393442</td>\n",
       "      <td>73,78347</td>\n",
       "      <td>0.263542</td>\n",
       "      <td>864,2396777</td>\n",
       "      <td>35346</td>\n",
       "      <td>85631</td>\n",
       "    </tr>\n",
       "  </tbody>\n",
       "</table>\n",
       "</div>"
      ],
      "text/plain": [
       "   Cardiomegaly  Heart width  Lung width CTR - Cardiothoracic Ratio  \\\n",
       "0             0          172         405                0,424691358   \n",
       "1             1          159         391               0,4066496164   \n",
       "2             0          208         400                       0,52   \n",
       "3             1          226         435               0,5195402299   \n",
       "4             1          211         420               0,5023809524   \n",
       "\n",
       "   normalized_diff Inscribed circle radius  Polygon Area Ratio  \\\n",
       "0        -0.304239                 68,8186            0.213446   \n",
       "1        -0.539387                73,92564            0.203652   \n",
       "2        -0.371163                69,33974            0.320787   \n",
       "3        -0.419123                84,14868            0.317545   \n",
       "4        -0.393442                73,78347            0.263542   \n",
       "\n",
       "  Heart perimeter  Heart area   Lung area  \n",
       "0     679,4873689        24898      75419  \n",
       "1     788,6589419        29851      94494  \n",
       "2     862,3229369        33653      66666  \n",
       "3      906,724959        42018      82596  \n",
       "4     864,2396777        35346      85631  "
      ]
     },
     "execution_count": 2,
     "metadata": {},
     "output_type": "execute_result"
    }
   ],
   "source": [
    "data = pd.read_csv(\"task_data.csv\")\n",
    "data.drop(['ID', 'xx', 'yy', 'xy'], axis=1, inplace=True)\n",
    "data.head()"
   ]
  },
  {
   "cell_type": "code",
   "execution_count": 3,
   "id": "99662907",
   "metadata": {},
   "outputs": [],
   "source": [
    "#casting str to float\n",
    "for col in data.columns:\n",
    "  if isinstance(data[col][1], str):\n",
    "    data[col] = data[col].map(lambda x: float(x.replace(',', '.')))\n",
    "\n",
    "#normalizing inputs\n",
    "for col in data.columns:\n",
    "  maksimum = max(data[col])\n",
    "  minimum = min(data[col])\n",
    "  data[col] = data[col].map(lambda x: (x-minimum)/(maksimum-minimum))\n"
   ]
  },
  {
   "cell_type": "code",
   "execution_count": 4,
   "id": "78356f64",
   "metadata": {},
   "outputs": [
    {
     "name": "stdout",
     "output_type": "stream",
     "text": [
      "Using Hamming:  Accuracy: 0.4594594594594595 Precision: 0.4642857142857143 Recall: 0.7222222222222222 F1-score: 0.5652173913043479\n",
      "Using Euclidean  Accuracy: 0.7027027027027027 Precision: 0.8214285714285714 Recall: 0.7931034482758621 F1-score: 0.8070175438596492\n",
      "Using manhattan:  Accuracy: 0.6486486486486487 Precision: 0.7857142857142857 Recall: 0.7586206896551724 F1-score: 0.7719298245614034\n",
      "Using chebyshev:  Accuracy: 0.6486486486486487 Precision: 0.7857142857142857 Recall: 0.7586206896551724 F1-score: 0.7719298245614034\n"
     ]
    }
   ],
   "source": [
    "#confusion matrixes for diffrent methods of calculating distance(for comparision)\n",
    "cfm_hamming = ConfusionMatrix()\n",
    "cfm_euclidean = ConfusionMatrix()\n",
    "cfm_manhattan = ConfusionMatrix()\n",
    "cfm_chebyshev = ConfusionMatrix()\n",
    "\n",
    "#evaluating the solution with cross validation\n",
    "kf = KFold(5, shuffle=True)\n",
    "for train_id, test_id in kf.split(data):\n",
    "  #initializing KNN with train dataset and k=6 neighbors\n",
    "  knn = KNN(np.array(data.loc[train_id]), 6)\n",
    "\n",
    "  #calculating TP, TN, FP, FN\n",
    "  for point in np.array(data.loc[test_id]):\n",
    "    cfm_hamming.evaluate(np.round(knn.predict(np.array(point[1:]), KNN.hamming)), point[0])\n",
    "    cfm_manhattan.evaluate(np.round(knn.predict(np.array(point[1:]), KNN.manhattan)), point[0])\n",
    "    cfm_euclidean.evaluate(np.round(knn.predict(np.array(point[1:]))), point[0])\n",
    "    cfm_chebyshev.evaluate(np.round(knn.predict(np.array(point[1:]), KNN.chebyshev)), point[0])\n",
    "\n",
    "cfm_hamming.print_all(\"Using Hamming: \")\n",
    "cfm_euclidean.print_all(\"Using Euclidean \")\n",
    "cfm_manhattan.print_all(\"Using manhattan: \")\n",
    "cfm_chebyshev.print_all(\"Using chebyshev: \")"
   ]
  },
  {
   "cell_type": "code",
   "execution_count": 5,
   "id": "908305ad",
   "metadata": {},
   "outputs": [
    {
     "data": {
      "image/png": "[encoded data removed]",
      "text/plain": [
       "<Figure size 640x480 with 1 Axes>"
      ]
     },
     "metadata": {},
     "output_type": "display_data"
    }
   ],
   "source": [
    "names = ['accuracy', 'precision', 'recall', 'F1-score']\n",
    "values = {\n",
    "  \"hamming\" : (cfm_hamming.accuracy,cfm_hamming.precision,cfm_hamming.recall, cfm_hamming.F1_score),\n",
    "  \"manhattan\" : (cfm_manhattan.accuracy,cfm_manhattan.precision,cfm_manhattan.recall, cfm_manhattan.F1_score),\n",
    "  \"euclidean\" : (cfm_euclidean.accuracy,cfm_euclidean.precision,cfm_euclidean.recall, cfm_euclidean.F1_score),\n",
    "  \"chebyshev\" : (cfm_chebyshev.accuracy,cfm_chebyshev.precision,cfm_chebyshev.recall, cfm_chebyshev.F1_score),\n",
    "}\n",
    "r = 2\n",
    "\n",
    "values = {k: (round(v[0],r), round(v[1],r), round(v[2],r), round(v[3], r)) for k, v in values.items()}\n",
    "\n",
    "fig, ax = plt.subplots(layout='constrained')\n",
    "x = np.arange(len(names))\n",
    "width = 0.2\n",
    "multiplier = 0\n",
    "\n",
    "for attribute, measurement in values.items():\n",
    "    offset = width * multiplier\n",
    "    rects = ax.bar(x + offset, measurement, width, label=attribute)\n",
    "    ax.bar_label(rects, padding=3)\n",
    "    multiplier += 1\n",
    "\n",
    "ax.set_title('Evaluation of diffrent methods used by KNN')\n",
    "ax.set_xticks(x + width, names)\n",
    "ax.legend(loc='upper left', ncols=3)\n",
    "ax.set_ylim(0, 1.2)\n",
    "\n",
    "\n",
    "plt.show()"
   ]
  },
  {
   "cell_type": "code",
   "execution_count": 6,
   "id": "68bf5258",
   "metadata": {},
   "outputs": [
    {
     "name": "stdout",
     "output_type": "stream",
     "text": [
      " Accuracy: 0.7297297297297297 Precision: 0.8928571428571429 Recall: 0.78125 F1-score: 0.8333333333333334\n"
     ]
    }
   ],
   "source": [
    "from decisionTree import DecisionTreeClassifier\n",
    "\n",
    "#evaluating the solution with cross validation\n",
    "dT = DecisionTreeClassifier(6)\n",
    "cfm = ConfusionMatrix()\n",
    "kf = KFold(5, shuffle=True)\n",
    "for train_id, test_id in kf.split(data):\n",
    "  dT.fit(np.array(data.loc[train_id]))\n",
    "  #calculating TP, TN, FP, FN\n",
    "  for point in np.array(data.loc[test_id]):\n",
    "    cfm.evaluate(dT.traverse_tree(point), point[0])\n",
    "\n",
    "cfm.print_all()"
   ]
  },
  {
   "cell_type": "code",
   "execution_count": 7,
   "id": "3b1432b6",
   "metadata": {},
   "outputs": [
    {
     "name": "stdout",
     "output_type": "stream",
     "text": [
      "[[np.float64(0.5653167969319945), np.float64(0.1164881499672484), np.float64(0.5392890158836877)], [np.float64(0.14939275325425255), np.float64(0.16071464546321887), np.float64(0.21384149928565427)], [np.float64(0.3360814654688362), np.float64(0.261216177708347), np.float64(0.5348768804101185)], [np.float64(0.2484884993204581), np.float64(0.0), np.float64(0.2250609294898731)], [np.float64(0.46709424723779547), np.float64(0.6847707788465599), np.float64(0.6074039835280276)], [np.float64(0.3986516705411607), np.float64(0.22082663495321206), np.float64(0.39402470795865197)], [np.float64(0.5377209350650515), np.float64(0.25383176512119077), np.float64(0.5938734347424153)], [np.float64(0.3986516705411607), np.float64(0.22082663495321206), np.float64(0.39402470795865197)], [np.float64(0.3154921783392969), np.float64(0.17447884239310743), np.float64(0.3418774686948483)], [np.float64(0.37380310065926603), np.float64(0.30305381672127607), np.float64(0.4544919741154719)], [np.float64(0.18100173379048717), np.float64(0.11301696579529011), np.float64(0.26502227077905705)], [np.float64(0.2853531810476619), np.float64(0.6826600286928963), np.float64(0.2746869484830658)], [np.float64(0.18100173379048717), np.float64(0.11301696579529011), np.float64(0.26502227077905705)], [np.float64(0.37380310065926603), np.float64(0.30305381672127607), np.float64(0.4544919741154719)], [np.float64(0.5377209350650515), np.float64(0.25383176512119077), np.float64(0.5938734347424153)], [np.float64(0.46709424723779547), np.float64(0.6847707788465599), np.float64(0.6074039835280276)], [np.float64(0.7250487217250867), np.float64(0.46095811910699297), np.float64(0.9093201109336919)], [np.float64(0.2853531810476619), np.float64(0.6826600286928963), np.float64(0.2746869484830658)], [np.float64(0.46709424723779547), np.float64(0.6847707788465599), np.float64(0.6074039835280276)], [np.float64(0.18100173379048717), np.float64(0.11301696579529011), np.float64(0.26502227077905705)], [np.float64(0.37380310065926603), np.float64(0.30305381672127607), np.float64(0.4544919741154719)], [np.float64(0.5598563790803657), np.float64(0.41972247828871256), np.float64(0.6040423565005463)], [np.float64(0.3986516705411607), np.float64(0.22082663495321206), np.float64(0.39402470795865197)], [np.float64(0.46709424723779547), np.float64(0.6847707788465599), np.float64(0.6074039835280276)], [np.float64(0.3116095630405493), np.float64(0.5870752378496734), np.float64(0.4453315404655853)], [np.float64(1.0), np.float64(0.6224209628659447), np.float64(0.940499201613581)], [np.float64(0.2484884993204581), np.float64(0.0), np.float64(0.2250609294898731)], [np.float64(0.14939275325425255), np.float64(0.16071464546321887), np.float64(0.21384149928565427)], [np.float64(0.7250487217250867), np.float64(0.46095811910699297), np.float64(0.9093201109336919)]]\n",
      "[[np.float64(0.6610169491525424), np.float64(0.3910724233649804), np.float64(0.3750445852436288)], [np.float64(0.3474576271186441), np.float64(0.09454007632264907), np.float64(0.5493232479666212)], [np.float64(0.7203389830508474), np.float64(0.5533820509032944), np.float64(0.5848195181346572)], [np.float64(0.3983050847457627), np.float64(0.23882068134841936), np.float64(0.46967326916976615)], [np.float64(0.5338983050847458), np.float64(0.6256243296562407), np.float64(0.7098079838538958)], [np.float64(0.0), np.float64(0.05864621310231069), np.float64(0.0)], [np.float64(0.7203389830508474), np.float64(0.5533820509032944), np.float64(0.5848195181346572)], [np.float64(0.3983050847457627), np.float64(0.19180891267512507), np.float64(0.5308700576383198)], [np.float64(0.4745762711864407), np.float64(0.3387165538092024), np.float64(0.19317051510528846)], [np.float64(0.7711864406779662), np.float64(0.43747507637763483), np.float64(0.3991636177442651)], [np.float64(0.7711864406779662), np.float64(0.43747507637763483), np.float64(0.3991636177442651)], [np.float64(0.23728813559322035), np.float64(0.0), np.float64(0.505195419187818)], [np.float64(0.4152542372881356), np.float64(0.5488842208902714), np.float64(0.46267830441912267)], [np.float64(0.3983050847457627), np.float64(0.19180891267512507), np.float64(0.5584820843081372)], [np.float64(0.2966101694915254), np.float64(0.4435493503289624), np.float64(0.20153628822315148)], [np.float64(0.6271186440677966), np.float64(0.47877969181813357), np.float64(0.14508794793245772)], [np.float64(0.4491525423728814), np.float64(0.3543912787748639), np.float64(0.7780887101082351)], [np.float64(0.3474576271186441), np.float64(0.09454007632264907), np.float64(0.5493232479666212)], [np.float64(0.3983050847457627), np.float64(0.19180891267512507), np.float64(0.5308700576383198)], [np.float64(0.635593220338983), np.float64(0.24366242490584022), np.float64(0.34500095616197524)], [np.float64(0.2033898305084746), np.float64(0.10028106231403719), np.float64(0.5602485290316541)], [np.float64(0.635593220338983), np.float64(0.24366242490584022), np.float64(0.34500095616197524)], [np.float64(0.4491525423728814), np.float64(0.45034663125729013), np.float64(0.5982183852428711)], [np.float64(0.23728813559322035), np.float64(0.0), np.float64(0.505195419187818)], [np.float64(0.4491525423728814), np.float64(0.3543912787748639), np.float64(0.7780887101082351)], [np.float64(0.3813559322033898), np.float64(0.09018225612073957), np.float64(0.5928574894947305)], [np.float64(0.5338983050847458), np.float64(0.6256243296562407), np.float64(0.7098079838538958)], [np.float64(0.4576271186440678), np.float64(0.04181898502895373), np.float64(0.5191605579972611)], [np.float64(0.4491525423728814), np.float64(0.3543912787748639), np.float64(0.7780887101082351)]]\n",
      "[[np.float64(0.42038216560509556), np.float64(0.5848195181346572), np.float64(0.9093201109336919)], [np.float64(0.6751592356687898), np.float64(0.5493232479666212), np.float64(0.39402470795865197)], [np.float64(0.4140127388535032), np.float64(0.4423765113699675), np.float64(0.6074039835280276)], [np.float64(0.8407643312101911), np.float64(0.34500095616197524), np.float64(0.6546348432641399)], [np.float64(0.6751592356687898), np.float64(0.5493232479666212), np.float64(0.39402470795865197)], [np.float64(0.8471337579617835), np.float64(0.818549099671727), np.float64(0.5938734347424153)], [np.float64(0.025477707006369428), np.float64(0.46267830441912267), np.float64(0.6040423565005463)], [np.float64(0.4140127388535032), np.float64(0.19317051510528846), np.float64(0.25565173543995295)], [np.float64(0.6751592356687898), np.float64(0.3991636177442651), np.float64(0.7312799394907135)], [np.float64(0.8407643312101911), np.float64(0.34500095616197524), np.float64(0.6546348432641399)], [np.float64(0.3503184713375796), np.float64(0.7780887101082351), np.float64(0.22232960753004455)], [np.float64(1.0), np.float64(0.5191605579972611), np.float64(0.5392890158836877)], [np.float64(0.5605095541401274), np.float64(0.5308700576383198), np.float64(0.3795697117404824)], [np.float64(0.40764331210191085), np.float64(0.14508794793245772), np.float64(1.0)], [np.float64(0.6751592356687898), np.float64(0.5493232479666212), np.float64(0.39402470795865197)], [np.float64(0.4140127388535032), np.float64(0.19317051510528846), np.float64(0.25565173543995295)], [np.float64(0.20382165605095542), np.float64(0.5982183852428711), np.float64(0.30296663585175226)], [np.float64(0.7452229299363057), np.float64(0.5928574894947305), np.float64(0.3418774686948483)], [np.float64(0.7898089171974523), np.float64(0.3536336555590744), np.float64(0.5348768804101185)], [np.float64(0.3503184713375796), np.float64(0.9399613557169656), np.float64(0.7006050928649467)], [np.float64(0.7452229299363057), np.float64(0.5928574894947305), np.float64(0.3418774686948483)], [np.float64(0.4140127388535032), np.float64(0.4423765113699675), np.float64(0.6074039835280276)], [np.float64(0.12101910828025478), np.float64(0.0), np.float64(0.2607782166568619)], [np.float64(0.4140127388535032), np.float64(0.19317051510528846), np.float64(0.25565173543995295)], [np.float64(0.42038216560509556), np.float64(0.5848195181346572), np.float64(0.9093201109336919)], [np.float64(0.8471337579617835), np.float64(0.818549099671727), np.float64(0.5938734347424153)], [np.float64(0.40764331210191085), np.float64(0.14508794793245772), np.float64(1.0)], [np.float64(1.0), np.float64(0.5191605579972611), np.float64(0.5392890158836877)], [np.float64(0.3503184713375796), np.float64(0.7780887101082351), np.float64(0.22232960753004455)]]\n",
      "[[np.float64(0.20663260703165073), np.float64(0.379942250816469), np.float64(0.5204505219461572)], [np.float64(0.6101930405447922), np.float64(1.0), np.float64(0.6369727122886271)], [np.float64(0.5870752378496734), np.float64(0.4985733890150842), np.float64(0.2929308345033881)], [np.float64(0.13333237244182766), np.float64(0.07113470896882833), np.float64(0.3723979000061046)], [np.float64(0.33387858957891575), np.float64(0.7742914628744901), np.float64(0.8305964226848178)], [np.float64(0.5797744503656892), np.float64(0.5992435011714069), np.float64(0.23881325926378122)], [np.float64(0.17447884239310743), np.float64(0.2851194443905725), np.float64(0.5240064709114217)], [np.float64(0.46095811910699297), np.float64(0.7697462353876575), np.float64(0.626335388559917)], [np.float64(0.17447884239310743), np.float64(0.2851194443905725), np.float64(0.5240064709114217)], [np.float64(0.6410150142668439), np.float64(0.2982449513975206), np.float64(0.08729625785971552)], [np.float64(0.6939267343536902), np.float64(0.7273258296411204), np.float64(0.40931567059398083)], [np.float64(0.30305381672127607), np.float64(0.49139482057502276), np.float64(0.48997313961296624)], [np.float64(0.11301696579529011), np.float64(0.37672829268267416), np.float64(0.6595140711800256)], [np.float64(0.20663260703165073), np.float64(0.379942250816469), np.float64(0.5204505219461572)], [np.float64(0.45574862361148233), np.float64(0.33752183987074763), np.float64(0.2539374885538123)], [np.float64(0.35301378745414486), np.float64(0.423183758550114), np.float64(0.5601459007386607)], [np.float64(0.6826600286928963), np.float64(0.28763255218352524), np.float64(0.0)], [np.float64(0.34413567913232623), np.float64(0.19198865763501272), np.float64(0.22965630913863622)], [np.float64(0.6410150142668439), np.float64(0.2982449513975206), np.float64(0.08729625785971552)], [np.float64(0.5797744503656892), np.float64(0.5992435011714069), np.float64(0.23881325926378122)], [np.float64(0.17447884239310743), np.float64(0.2851194443905725), np.float64(0.5240064709114217)], [np.float64(0.13333237244182766), np.float64(0.07113470896882833), np.float64(0.3723979000061046)], [np.float64(0.5870752378496734), np.float64(0.4985733890150842), np.float64(0.2929308345033881)], [np.float64(0.0), np.float64(0.2111813282815029), np.float64(0.7422929003113363)], [np.float64(0.5757616368436129), np.float64(0.6232218973980763), np.float64(0.21149502472376533)], [np.float64(0.5757616368436129), np.float64(0.6232218973980763), np.float64(0.21149502472376533)], [np.float64(0.41972247828871256), np.float64(0.5037696551904483), np.float64(0.4418228435382455)], [np.float64(0.6410150142668439), np.float64(0.2982449513975206), np.float64(0.08729625785971552)], [np.float64(0.6101930405447922), np.float64(1.0), np.float64(0.6369727122886271)]]\n",
      "[[np.float64(0.34413567913232623), np.float64(0.22232960753004455)], [np.float64(0.261216177708347), np.float64(0.5348768804101185)], [np.float64(0.6939267343536902), np.float64(0.7199344482729642)], [np.float64(0.0672851559959818), np.float64(0.2607782166568619)], [np.float64(0.35301378745414486), np.float64(0.25565173543995295)], [np.float64(0.45574862361148233), np.float64(0.30422724598705775)], [np.float64(0.0672851559959818), np.float64(0.2607782166568619)], [np.float64(0.46095811910699297), np.float64(0.9093201109336919)], [np.float64(0.6224209628659447), np.float64(0.940499201613581)], [np.float64(0.0672851559959818), np.float64(0.2607782166568619)], [np.float64(0.30305381672127607), np.float64(0.4544919741154719)], [np.float64(0.13333237244182766), np.float64(0.09727708210774015)], [np.float64(0.45574862361148233), np.float64(0.30422724598705775)], [np.float64(0.45574862361148233), np.float64(0.30422724598705775)], [np.float64(0.13333237244182766), np.float64(0.09727708210774015)], [np.float64(0.45574862361148233), np.float64(0.30422724598705775)], [np.float64(0.16071464546321887), np.float64(0.21384149928565427)], [np.float64(0.5757616368436129), np.float64(0.7006050928649467)], [np.float64(0.30305381672127607), np.float64(0.4544919741154719)], [np.float64(0.261216177708347), np.float64(0.5348768804101185)], [np.float64(0.5797744503656892), np.float64(0.465165139927725)], [np.float64(0.11301696579529011), np.float64(0.26502227077905705)], [np.float64(0.30305381672127607), np.float64(0.4544919741154719)], [np.float64(0.6101930405447922), np.float64(1.0)], [np.float64(0.22082663495321206), np.float64(0.39402470795865197)], [np.float64(0.35301378745414486), np.float64(0.25565173543995295)], [np.float64(0.45574862361148233), np.float64(0.30422724598705775)], [np.float64(0.45574862361148233), np.float64(0.30422724598705775)], [np.float64(0.20663260703165073), np.float64(0.3795697117404824)]]\n",
      "[[np.float64(0.23728813559322035), np.float64(0.2250609294898731)], [np.float64(0.6610169491525424), np.float64(0.8166652659887386)], [np.float64(0.0), np.float64(0.2607782166568619)], [np.float64(0.9067796610169492), np.float64(0.940499201613581)], [np.float64(0.4915254237288136), np.float64(0.5348768804101185)], [np.float64(0.5084745762711864), np.float64(0.465165139927725)], [np.float64(0.23728813559322035), np.float64(0.2250609294898731)], [np.float64(0.6779661016949152), np.float64(0.5938734347424153)], [np.float64(0.5508474576271186), np.float64(0.6074039835280276)], [np.float64(0.7711864406779662), np.float64(0.7312799394907135)], [np.float64(0.3983050847457627), np.float64(0.4544919741154719)], [np.float64(0.9067796610169492), np.float64(0.7199344482729642)], [np.float64(0.5338983050847458), np.float64(0.2746869484830658)], [np.float64(0.4745762711864407), np.float64(0.25565173543995295)], [np.float64(0.5338983050847458), np.float64(0.2746869484830658)], [np.float64(0.635593220338983), np.float64(0.6546348432641399)], [np.float64(0.6271186440677966), np.float64(1.0)], [np.float64(0.3983050847457627), np.float64(0.4544919741154719)], [np.float64(0.6779661016949152), np.float64(0.5938734347424153)], [np.float64(0.4745762711864407), np.float64(0.25565173543995295)], [np.float64(0.4152542372881356), np.float64(0.6040423565005463)], [np.float64(0.4576271186440678), np.float64(0.5392890158836877)], [np.float64(0.4491525423728814), np.float64(0.30296663585175226)], [np.float64(0.4576271186440678), np.float64(0.5392890158836877)], [np.float64(0.3474576271186441), np.float64(0.39402470795865197)], [np.float64(0.9067796610169492), np.float64(0.7199344482729642)], [np.float64(0.4491525423728814), np.float64(0.22232960753004455)], [np.float64(0.3135593220338983), np.float64(0.30422724598705775)], [np.float64(0.6610169491525424), np.float64(0.8166652659887386)]]\n",
      "[[np.float64(0.3135593220338983), np.float64(0.251245954457751), np.float64(0.33752183987074763)], [np.float64(0.23728813559322035), np.float64(0.37575091661348553), np.float64(0.21497589175327741)], [np.float64(0.5338983050847458), np.float64(0.41644449823583146), np.float64(0.6047798838343986)], [np.float64(0.3983050847457627), np.float64(0.5308700576383198), np.float64(0.379942250816469)], [np.float64(0.3135593220338983), np.float64(0.251245954457751), np.float64(0.33752183987074763)], [np.float64(0.5169491525423728), np.float64(0.8056717880576094), np.float64(0.28441859636047884)], [np.float64(0.3135593220338983), np.float64(0.251245954457751), np.float64(0.33752183987074763)], [np.float64(0.4152542372881356), np.float64(0.46267830441912267), np.float64(0.5037696551904483)], [np.float64(0.0), np.float64(0.0), np.float64(0.43834138236250597)], [np.float64(0.8389830508474576), np.float64(0.9399613557169656), np.float64(0.6232218973980763)], [np.float64(0.4152542372881356), np.float64(0.46267830441912267), np.float64(0.5037696551904483)], [np.float64(0.5677966101694916), np.float64(0.2759319789883753), np.float64(0.6617274987137861)], [np.float64(0.3983050847457627), np.float64(0.5584820843081372), np.float64(0.2572262474880426)], [np.float64(0.6271186440677966), np.float64(0.14508794793245772), np.float64(1.0)], [np.float64(0.5169491525423728), np.float64(0.8056717880576094), np.float64(0.28441859636047884)], [np.float64(0.06779661016949153), np.float64(0.4381568842043404), np.float64(0.0)], [np.float64(0.4745762711864407), np.float64(0.19317051510528846), np.float64(0.423183758550114)], [np.float64(0.3983050847457627), np.float64(0.5584820843081372), np.float64(0.2572262474880426)], [np.float64(0.2033898305084746), np.float64(0.5602485290316541), np.float64(0.07113470896882833)], [np.float64(0.5084745762711864), np.float64(0.452361690476204), np.float64(0.5992435011714069)], [np.float64(1.0), np.float64(0.8337868241211167), np.float64(0.9199448979118647)], [np.float64(0.3983050847457627), np.float64(0.5308700576383198), np.float64(0.379942250816469)], [np.float64(1.0), np.float64(0.8337868241211167), np.float64(0.9199448979118647)], [np.float64(0.3983050847457627), np.float64(0.5308700576383198), np.float64(0.379942250816469)], [np.float64(0.6271186440677966), np.float64(0.14508794793245772), np.float64(1.0)], [np.float64(0.635593220338983), np.float64(0.34500095616197524), np.float64(0.7742914628744901)], [np.float64(0.0), np.float64(0.0), np.float64(0.43834138236250597)], [np.float64(0.8389830508474576), np.float64(0.9399613557169656), np.float64(0.6232218973980763)], [np.float64(0.6271186440677966), np.float64(0.14508794793245772), np.float64(1.0)]]\n",
      "[[np.float64(0.23882068134841936), np.float64(0.37380310065926603), np.float64(0.48997313961296624)], [np.float64(0.6256243296562407), np.float64(0.2853531810476619), np.float64(0.0)], [np.float64(0.27144109196425564), np.float64(0.19652155307972555), np.float64(0.2539374885538123)], [np.float64(0.10028106231403719), np.float64(0.11991159376821206), np.float64(0.3723979000061046)], [np.float64(0.3924820044224175), np.float64(0.13450612735728726), np.float64(0.23881325926378122)], [np.float64(1.0), np.float64(0.7669753099385038), np.float64(0.07655210304621207)], [np.float64(0.3924820044224175), np.float64(0.13450612735728726), np.float64(0.23881325926378122)], [np.float64(0.32406837717197323), np.float64(0.4140631104218144), np.float64(0.5332397289542763)], [np.float64(0.32406837717197323), np.float64(0.4140631104218144), np.float64(0.5332397289542763)], [np.float64(0.6860076915337094), np.float64(0.6570869911383731), np.float64(0.4132684207313351)], [np.float64(0.05896457655848729), np.float64(0.27426795590554376), np.float64(0.5443501617727855)], [np.float64(0.6256243296562407), np.float64(0.2853531810476619), np.float64(0.0)], [np.float64(0.24366242490584022), np.float64(0.33278583528738315), np.float64(0.8305964226848178)], [np.float64(0.5488842208902714), np.float64(0.5598563790803657), np.float64(0.4418228435382455)], [np.float64(0.3924820044224175), np.float64(0.13450612735728726), np.float64(0.23881325926378122)], [np.float64(0.2918595995764838), np.float64(0.5493970660265839), np.float64(0.43202490690434037)], [np.float64(0.338464842917038), np.float64(0.25895285327696466), np.float64(0.5282491911360723)], [np.float64(0.32406837717197323), np.float64(0.4140631104218144), np.float64(0.5332397289542763)], [np.float64(0.7105240800506604), np.float64(0.5512266336655568), np.float64(0.21149502472376533)], [np.float64(0.6860076915337094), np.float64(0.6570869911383731), np.float64(0.4132684207313351)], [np.float64(0.3387165538092024), np.float64(0.023282809485522554), np.float64(0.5601459007386607)], [np.float64(0.044967989100844666), np.float64(0.2629343262791501), np.float64(0.6635126060680057)], [np.float64(0.7105240800506604), np.float64(0.5512266336655568), np.float64(0.21149502472376533)], [np.float64(0.04181898502895373), np.float64(0.5653167969319945), np.float64(1.0)], [np.float64(0.13717293887383447), np.float64(0.18100173379048717), np.float64(0.6595140711800256)], [np.float64(0.4435493503289624), np.float64(0.3116095630405493), np.float64(0.2929308345033881)], [np.float64(0.5488842208902714), np.float64(0.5598563790803657), np.float64(0.4418228435382455)], [np.float64(0.0), np.float64(0.2484884993204581), np.float64(0.7422929003113363)], [np.float64(0.32406837717197323), np.float64(0.4140631104218144), np.float64(0.5332397289542763)]]\n",
      "[[np.float64(0.6410150142668439)], [np.float64(0.30305381672127607)], [np.float64(0.4595477543167043)], [np.float64(0.5870752378496734)], [np.float64(0.5870752378496734)], [np.float64(0.10196118394095566)], [np.float64(0.41972247828871256)], [np.float64(0.41972247828871256)], [np.float64(0.261216177708347)], [np.float64(0.5797744503656892)], [np.float64(0.34168743473530255)], [np.float64(0.5757616368436129)], [np.float64(0.10359907497431835)], [np.float64(0.5870752378496734)], [np.float64(0.27193946176088346)], [np.float64(0.10359907497431835)], [np.float64(0.46095811910699297)], [np.float64(0.261216177708347)], [np.float64(0.7099602112046433)], [np.float64(0.30305381672127607)], [np.float64(0.27193946176088346)], [np.float64(0.6939267343536902)], [np.float64(0.1164881499672484)], [np.float64(0.10359907497431835)], [np.float64(0.6826600286928963)], [np.float64(0.11301696579529011)], [np.float64(0.6939267343536902)], [np.float64(0.10359907497431835)], [np.float64(0.0)]]\n"
     ]
    },
    {
     "ename": "IndexError",
     "evalue": "index 1 is out of bounds for axis 0 with size 1",
     "output_type": "error",
     "traceback": [
      "\u001b[31m---------------------------------------------------------------------------\u001b[39m",
      "\u001b[31mIndexError\u001b[39m                                Traceback (most recent call last)",
      "\u001b[36mCell\u001b[39m\u001b[36m \u001b[39m\u001b[32mIn[7]\u001b[39m\u001b[32m, line 8\u001b[39m\n\u001b[32m      6\u001b[39m kf = KFold(\u001b[32m5\u001b[39m, shuffle=\u001b[38;5;28;01mTrue\u001b[39;00m)\n\u001b[32m      7\u001b[39m \u001b[38;5;28;01mfor\u001b[39;00m train_id, test_id \u001b[38;5;129;01min\u001b[39;00m kf.split(data):\n\u001b[32m----> \u001b[39m\u001b[32m8\u001b[39m   \u001b[43mrF\u001b[49m\u001b[43m.\u001b[49m\u001b[43mfit\u001b[49m\u001b[43m(\u001b[49m\u001b[43mnp\u001b[49m\u001b[43m.\u001b[49m\u001b[43marray\u001b[49m\u001b[43m(\u001b[49m\u001b[43mdata\u001b[49m\u001b[43m.\u001b[49m\u001b[43mloc\u001b[49m\u001b[43m[\u001b[49m\u001b[43mtrain_id\u001b[49m\u001b[43m]\u001b[49m\u001b[43m)\u001b[49m\u001b[43m)\u001b[49m\n\u001b[32m      9\u001b[39m   \u001b[38;5;66;03m#calculating TP, TN, FP, FN\u001b[39;00m\n\u001b[32m     10\u001b[39m   \u001b[38;5;28;01mfor\u001b[39;00m point \u001b[38;5;129;01min\u001b[39;00m np.array(data.loc[test_id]):\n",
      "\u001b[36mFile \u001b[39m\u001b[32mc:\\Users\\kamil\\Documents\\GitHub\\aimed\\randomForest.py:17\u001b[39m, in \u001b[36mRandomForest.fit\u001b[39m\u001b[34m(self, data)\u001b[39m\n\u001b[32m     15\u001b[39m \u001b[38;5;28;01mfor\u001b[39;00m tree \u001b[38;5;129;01min\u001b[39;00m \u001b[38;5;28mrange\u001b[39m(\u001b[38;5;28mself\u001b[39m.num_trees):\n\u001b[32m     16\u001b[39m     dT = DecisionTreeClassifier()\n\u001b[32m---> \u001b[39m\u001b[32m17\u001b[39m     \u001b[43mdT\u001b[49m\u001b[43m.\u001b[49m\u001b[43mfit\u001b[49m\u001b[43m(\u001b[49m\u001b[38;5;28;43mself\u001b[39;49m\u001b[43m.\u001b[49m\u001b[43mget_random_data\u001b[49m\u001b[43m(\u001b[49m\u001b[43mdata\u001b[49m\u001b[43m,\u001b[49m\u001b[43m \u001b[49m\u001b[43mnum_features\u001b[49m\u001b[43m,\u001b[49m\u001b[43m \u001b[49m\u001b[43msamples\u001b[49m\u001b[43m,\u001b[49m\u001b[43m \u001b[49m\u001b[43mfeatures\u001b[49m\u001b[43m)\u001b[49m\u001b[43m)\u001b[49m\n\u001b[32m     18\u001b[39m     \u001b[38;5;28mself\u001b[39m.trees.append(dT)\n",
      "\u001b[36mFile \u001b[39m\u001b[32mc:\\Users\\kamil\\Documents\\GitHub\\aimed\\decisionTree.py:31\u001b[39m, in \u001b[36mDecisionTreeClassifier.fit\u001b[39m\u001b[34m(self, data)\u001b[39m\n\u001b[32m     30\u001b[39m \u001b[38;5;28;01mdef\u001b[39;00m\u001b[38;5;250m \u001b[39m\u001b[34mfit\u001b[39m(\u001b[38;5;28mself\u001b[39m, data):\n\u001b[32m---> \u001b[39m\u001b[32m31\u001b[39m     \u001b[38;5;28mself\u001b[39m.root = \u001b[38;5;28;43mself\u001b[39;49m\u001b[43m.\u001b[49m\u001b[43mcraftTree\u001b[49m\u001b[43m(\u001b[49m\u001b[43mdata\u001b[49m\u001b[43m)\u001b[49m\n",
      "\u001b[36mFile \u001b[39m\u001b[32mc:\\Users\\kamil\\Documents\\GitHub\\aimed\\decisionTree.py:47\u001b[39m, in \u001b[36mDecisionTreeClassifier.craftTree\u001b[39m\u001b[34m(self, data, depth)\u001b[39m\n\u001b[32m     44\u001b[39m         \u001b[38;5;28;01mreturn\u001b[39;00m \u001b[38;5;28;01mNone\u001b[39;00m\n\u001b[32m     45\u001b[39m     \u001b[38;5;28;01mreturn\u001b[39;00m Node(value=\u001b[38;5;28mself\u001b[39m.most_common_label(Y))\n\u001b[32m---> \u001b[39m\u001b[32m47\u001b[39m best_value = \u001b[38;5;28;43mself\u001b[39;49m\u001b[43m.\u001b[49m\u001b[43mget_best_value\u001b[49m\u001b[43m(\u001b[49m\u001b[43mdata\u001b[49m\u001b[43m)\u001b[49m\n\u001b[32m     48\u001b[39m left = \u001b[38;5;28mself\u001b[39m.craftTree(best_value[\u001b[33m\"\u001b[39m\u001b[33mleft_data\u001b[39m\u001b[33m\"\u001b[39m], depth + \u001b[32m1\u001b[39m)\n\u001b[32m     49\u001b[39m right = \u001b[38;5;28mself\u001b[39m.craftTree(best_value[\u001b[33m\"\u001b[39m\u001b[33mright_data\u001b[39m\u001b[33m\"\u001b[39m], depth + \u001b[32m1\u001b[39m)\n",
      "\u001b[36mFile \u001b[39m\u001b[32mc:\\Users\\kamil\\Documents\\GitHub\\aimed\\decisionTree.py:103\u001b[39m, in \u001b[36mDecisionTreeClassifier.get_best_value\u001b[39m\u001b[34m(self, data)\u001b[39m\n\u001b[32m    100\u001b[39m             max_treshold = (sample, feature)\n\u001b[32m    102\u001b[39m sample, feature = max_treshold\n\u001b[32m--> \u001b[39m\u001b[32m103\u001b[39m treshold = \u001b[43mdata\u001b[49m\u001b[43m[\u001b[49m\u001b[43msample\u001b[49m\u001b[43m]\u001b[49m\u001b[43m[\u001b[49m\u001b[43mfeature\u001b[49m\u001b[43m]\u001b[49m\n\u001b[32m    104\u001b[39m right_data = []\n\u001b[32m    105\u001b[39m left_data = []\n",
      "\u001b[31mIndexError\u001b[39m: index 1 is out of bounds for axis 0 with size 1"
     ]
    }
   ],
   "source": [
    "from randomForest import RandomForest\n",
    "\n",
    "#evaluating the solution with cross validation\n",
    "rF = RandomForest(6)\n",
    "cfm_randomForest = ConfusionMatrix()\n",
    "kf = KFold(5, shuffle=True)\n",
    "for train_id, test_id in kf.split(data):\n",
    "  rF.fit(np.array(data.loc[train_id]))\n",
    "  #calculating TP, TN, FP, FN\n",
    "  for point in np.array(data.loc[test_id]):\n",
    "    cfm_randomForest.evaluate(rF.predict(point), point[0])\n",
    "\n",
    "cfm_randomForest.print_all()"
   ]
  },
  {
   "cell_type": "code",
   "execution_count": null,
   "id": "0200ec4b",
   "metadata": {},
   "outputs": [],
   "source": []
  }
 ],
 "metadata": {
  "kernelspec": {
   "display_name": ".venv",
   "language": "python",
   "name": "python3"
  },
  "language_info": {
   "codemirror_mode": {
    "name": "ipython",
    "version": 3
   },
   "file_extension": ".py",
   "mimetype": "text/x-python",
   "name": "python",
   "nbconvert_exporter": "python",
   "pygments_lexer": "ipython3",
   "version": "3.13.9"
  }
 },
 "nbformat": 4,
 "nbformat_minor": 5
}
